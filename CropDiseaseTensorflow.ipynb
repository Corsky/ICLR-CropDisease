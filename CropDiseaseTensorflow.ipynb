{
 "cells": [
  {
   "cell_type": "code",
   "execution_count": 1,
   "metadata": {},
   "outputs": [],
   "source": [
    "import numpy as np\n",
    "import pandas as pd\n",
    "import cv2\n",
    "import os\n",
    "import tensorflow as tf\n",
    "from tensorflow.keras import datasets, layers, models\n",
    "from sklearn.model_selection import train_test_split\n",
    "fileRoot = \"D:\\\\ICLR-CropDisease\\\\dataset\\\\\""
   ]
  },
  {
   "cell_type": "code",
   "execution_count": 2,
   "metadata": {},
   "outputs": [
    {
     "name": "stdout",
     "output_type": "stream",
     "text": [
      "[PhysicalDevice(name='/physical_device:GPU:0', device_type='GPU')]\n",
      "[name: \"/device:CPU:0\"\n",
      "device_type: \"CPU\"\n",
      "memory_limit: 268435456\n",
      "locality {\n",
      "}\n",
      "incarnation: 9881779920314848614\n",
      ", name: \"/device:GPU:0\"\n",
      "device_type: \"GPU\"\n",
      "memory_limit: 9210949796\n",
      "locality {\n",
      "  bus_id: 1\n",
      "  links {\n",
      "  }\n",
      "}\n",
      "incarnation: 10603529140792906481\n",
      "physical_device_desc: \"device: 0, name: GeForce GTX 1080 Ti, pci bus id: 0000:01:00.0, compute capability: 6.1\"\n",
      "]\n"
     ]
    }
   ],
   "source": [
    "gpus = tf.config.experimental.list_physical_devices(device_type='GPU')\n",
    "print(gpus)\n",
    "\n",
    "from tensorflow.python.client import device_lib\n",
    "print(device_lib.list_local_devices())"
   ]
  },
  {
   "cell_type": "code",
   "execution_count": 3,
   "metadata": {},
   "outputs": [],
   "source": [
    "img_shape_x = 64\n",
    "img_shape_y = 64"
   ]
  },
  {
   "cell_type": "code",
   "execution_count": 4,
   "metadata": {},
   "outputs": [],
   "source": [
    "# Load data and preprocess\n",
    "def loadData():\n",
    "    print(\"loadData called\")\n",
    "    \n",
    "    data_img = []\n",
    "    data_label = []\n",
    "\n",
    "    for file in os.listdir(fileRoot + \"train\\\\healthy_wheat\\\\\"):\n",
    "        img = cv2.imread(fileRoot + \"train\\\\healthy_wheat\\\\\" + file)\n",
    "        res = cv2.resize(img, dsize=(128, 128))\n",
    "        #print(res.shape)\n",
    "        res = crop_center(res, img_shape_x, img_shape_y)\n",
    "        #print(res.shape)\n",
    "        data_img.append(res)\n",
    "        data_label.append(0)\n",
    "\n",
    "    for file in os.listdir(fileRoot + \"train\\\\leaf_rust\\\\\"):\n",
    "        img = cv2.imread(fileRoot + \"train\\\\leaf_rust\\\\\" + file)\n",
    "        if img is None:\n",
    "            print(file)\n",
    "            continue\n",
    "        res = cv2.resize(img, dsize=(128, 128))\n",
    "        res = crop_center(res, 64, 64)\n",
    "        data_img.append(res)\n",
    "        data_label.append(1)\n",
    "\n",
    "    for file in os.listdir(fileRoot + \"train\\\\stem_rust\\\\\"):\n",
    "        img = cv2.imread(fileRoot + \"train\\\\stem_rust\\\\\" + file)\n",
    "        res = cv2.resize(img, dsize=(128, 128))\n",
    "        res = crop_center(res, 64, 64)\n",
    "        data_img.append(res)\n",
    "        data_label.append(2)\n",
    "\n",
    "    for i in range(len(data_img)):\n",
    "        data_img[i] = data_img[i] / 255\n",
    "    data_img = np.array(data_img)\n",
    "    return data_img, data_label\n",
    "\n",
    "def crop_center(img, x_dim, y_dim):\n",
    "    y,x,_ = img.shape\n",
    "    startx = x//2-(x_dim//2)\n",
    "    starty = y//2-(y_dim//2)    \n",
    "    return img[starty:starty+y_dim,startx:startx+x_dim,]"
   ]
  },
  {
   "cell_type": "code",
   "execution_count": 5,
   "metadata": {},
   "outputs": [],
   "source": [
    "def trainTestSplit(data_img,data_label):\n",
    "    print(\"trainTestSplit called\")\n",
    "    X_train, X_test, y_train, y_test = train_test_split(data_img,data_label,test_size = 0.3)\n",
    "    return X_train, X_test, y_train, y_test"
   ]
  },
  {
   "cell_type": "code",
   "execution_count": 6,
   "metadata": {
    "scrolled": true
   },
   "outputs": [
    {
     "name": "stdout",
     "output_type": "stream",
     "text": [
      "trainModel called\n",
      "loadData called\n",
      "7U06EV.gif\n",
      "trainTestSplit called\n",
      "Train on 612 samples\n",
      "Epoch 1/10\n",
      "612/612 [==============================] - 2s 3ms/sample - loss: 1.0769 - accuracy: 0.4101\n",
      "Epoch 2/10\n",
      "612/612 [==============================] - 0s 201us/sample - loss: 0.9853 - accuracy: 0.4526\n",
      "Epoch 3/10\n",
      "612/612 [==============================] - 0s 202us/sample - loss: 0.9298 - accuracy: 0.4690\n",
      "Epoch 4/10\n",
      "612/612 [==============================] - 0s 197us/sample - loss: 0.9032 - accuracy: 0.5441\n",
      "Epoch 5/10\n",
      "612/612 [==============================] - 0s 200us/sample - loss: 0.8999 - accuracy: 0.5539\n",
      "Epoch 6/10\n",
      "612/612 [==============================] - 0s 197us/sample - loss: 0.8346 - accuracy: 0.6029\n",
      "Epoch 7/10\n",
      "612/612 [==============================] - 0s 207us/sample - loss: 0.9017 - accuracy: 0.5196\n",
      "Epoch 8/10\n",
      "612/612 [==============================] - 0s 202us/sample - loss: 0.8394 - accuracy: 0.5605\n",
      "Epoch 9/10\n",
      "612/612 [==============================] - 0s 204us/sample - loss: 0.7701 - accuracy: 0.6225\n",
      "Epoch 10/10\n",
      "612/612 [==============================] - 0s 200us/sample - loss: 0.7506 - accuracy: 0.6389\n",
      "263/1 - 0s - loss: 0.6865 - accuracy: 0.5817\n",
      "0.581749\n"
     ]
    }
   ],
   "source": [
    "#Create CNN model\n",
    "# Current : 3 conv layers, 2 pooling, 1 flatten, 2 dense.\n",
    "def trainModel():\n",
    "    print (\"trainModel called\")\n",
    "    data_img,data_lable = loadData()\n",
    "    X_train, X_test, y_train, y_test = trainTestSplit(data_img,data_lable)\n",
    "    y_train =np.array(y_train)\n",
    "    y_test =np.array(y_test)\n",
    "    model = models.Sequential()\n",
    "    model.add(layers.Conv2D(32, (3, 3), activation='relu', input_shape=(img_shape_x, img_shape_y, 3)))\n",
    "    model.add(layers.MaxPooling2D((2, 2)))\n",
    "    model.add(layers.Conv2D(64, (3, 3), activation='relu'))\n",
    "    model.add(layers.MaxPooling2D((2, 2)))\n",
    "    model.add(layers.Conv2D(64, (3, 3), activation='relu'))\n",
    "    model.add(layers.Flatten())\n",
    "    model.add(layers.Dense(64, activation='relu'))\n",
    "    model.add(layers.Dense(3))\n",
    "\n",
    "    model.compile(optimizer='adam',\n",
    "                  loss=tf.keras.losses.SparseCategoricalCrossentropy(from_logits=True),\n",
    "                  metrics=['accuracy'])\n",
    "\n",
    "    # Train\n",
    "    history = model.fit(X_train, y_train, epochs=10)\n",
    "\n",
    "    # test\n",
    "    test_loss, test_acc = model.evaluate(X_test,y_test, verbose=2)\n",
    "    print(test_acc)\n",
    "\n",
    "trainModel()\n",
    "    #output result"
   ]
  },
  {
   "cell_type": "code",
   "execution_count": null,
   "metadata": {},
   "outputs": [],
   "source": []
  }
 ],
 "metadata": {
  "kernelspec": {
   "display_name": "Python 3",
   "language": "python",
   "name": "python3"
  },
  "language_info": {
   "codemirror_mode": {
    "name": "ipython",
    "version": 3
   },
   "file_extension": ".py",
   "mimetype": "text/x-python",
   "name": "python",
   "nbconvert_exporter": "python",
   "pygments_lexer": "ipython3",
   "version": "3.7.4"
  }
 },
 "nbformat": 4,
 "nbformat_minor": 4
}
