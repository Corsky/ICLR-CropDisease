{
 "cells": [
  {
   "cell_type": "code",
   "execution_count": 1,
   "metadata": {},
   "outputs": [],
   "source": [
    "import numpy as np\n",
    "import pandas as pd\n",
    "import cv2\n",
    "import os\n",
    "import tensorflow as tf\n",
    "from tensorflow.keras import datasets, layers, models\n",
    "from sklearn.model_selection import train_test_split\n",
    "fileRoot = \"D:\\\\ICLR-CropDisease\\\\dataset\\\\\""
   ]
  },
  {
   "cell_type": "code",
   "execution_count": 2,
   "metadata": {},
   "outputs": [
    {
     "name": "stdout",
     "output_type": "stream",
     "text": [
      "[PhysicalDevice(name='/physical_device:GPU:0', device_type='GPU')]\n",
      "[name: \"/device:CPU:0\"\n",
      "device_type: \"CPU\"\n",
      "memory_limit: 268435456\n",
      "locality {\n",
      "}\n",
      "incarnation: 8273218242456770809\n",
      ", name: \"/device:GPU:0\"\n",
      "device_type: \"GPU\"\n",
      "memory_limit: 9210949796\n",
      "locality {\n",
      "  bus_id: 1\n",
      "  links {\n",
      "  }\n",
      "}\n",
      "incarnation: 17353790831532784825\n",
      "physical_device_desc: \"device: 0, name: GeForce GTX 1080 Ti, pci bus id: 0000:01:00.0, compute capability: 6.1\"\n",
      "]\n"
     ]
    }
   ],
   "source": [
    "gpus = tf.config.experimental.list_physical_devices(device_type='GPU')\n",
    "print(gpus)\n",
    "\n",
    "from tensorflow.python.client import device_lib\n",
    "print(device_lib.list_local_devices())"
   ]
  },
  {
   "cell_type": "code",
   "execution_count": 3,
   "metadata": {},
   "outputs": [],
   "source": [
    "img_shape_x = 64\n",
    "img_shape_y = 64"
   ]
  },
  {
   "cell_type": "code",
   "execution_count": 4,
   "metadata": {},
   "outputs": [],
   "source": [
    "# Load data and preprocess\n",
    "def loadData():\n",
    "    print(\"loadData called\")\n",
    "    \n",
    "    data_img = []\n",
    "    data_label = []\n",
    "\n",
    "    for file in os.listdir(fileRoot + \"train\\\\healthy_wheat\\\\\"):\n",
    "        img = cv2.imread(fileRoot + \"train\\\\healthy_wheat\\\\\" + file)\n",
    "        res = cv2.resize(img, dsize=(128, 128))\n",
    "        #print(res.shape)\n",
    "        res = crop_center(res, img_shape_x, img_shape_y)\n",
    "        #print(res.shape)\n",
    "        data_img.append(res)\n",
    "        data_label.append(0)\n",
    "\n",
    "    for file in os.listdir(fileRoot + \"train\\\\leaf_rust\\\\\"):\n",
    "        img = cv2.imread(fileRoot + \"train\\\\leaf_rust\\\\\" + file)\n",
    "        if img is None:\n",
    "            print(file)\n",
    "            continue\n",
    "        res = cv2.resize(img, dsize=(128, 128))\n",
    "        res = crop_center(res, 64, 64)\n",
    "        data_img.append(res)\n",
    "        data_label.append(1)\n",
    "\n",
    "    for file in os.listdir(fileRoot + \"train\\\\stem_rust\\\\\"):\n",
    "        img = cv2.imread(fileRoot + \"train\\\\stem_rust\\\\\" + file)\n",
    "        res = cv2.resize(img, dsize=(128, 128))\n",
    "        res = crop_center(res, 64, 64)\n",
    "        data_img.append(res)\n",
    "        data_label.append(2)\n",
    "\n",
    "    for i in range(len(data_img)):\n",
    "        data_img[i] = data_img[i] / 255\n",
    "    data_img = np.array(data_img)\n",
    "    return data_img, data_label\n",
    "\n",
    "def crop_center(img, x_dim, y_dim):\n",
    "    #print(\"crop_center called\")\n",
    "    y,x,_ = img.shape\n",
    "    startx = x//2-(x_dim//2)\n",
    "    starty = y//2-(y_dim//2)    \n",
    "    return img[starty:starty+y_dim,startx:startx+x_dim,]\n",
    "\n",
    "def trainTestSplit(data_img,data_label):\n",
    "    print(\"trainTestSplit called\")\n",
    "    X_train, X_test, y_train, y_test = train_test_split(data_img,data_label,test_size = 0.3)\n",
    "    return X_train, X_test, y_train, y_test\n",
    "\n"
   ]
  },
  {
   "cell_type": "code",
   "execution_count": null,
   "metadata": {},
   "outputs": [
    {
     "name": "stdout",
     "output_type": "stream",
     "text": [
      "loadData called\n"
     ]
    }
   ],
   "source": [
    "data_img,data_lable = loadData()\n",
    "X_train, X_test, y_train, y_test = trainTestSplit(data_img,data_lable)"
   ]
  },
  {
   "cell_type": "code",
   "execution_count": null,
   "metadata": {
    "scrolled": true
   },
   "outputs": [],
   "source": [
    "#Create CNN model\n",
    "# Current : 3 conv layers, 2 pooling, 1 flatten, 2 dense.\n",
    "def trainModel(X_train, X_test, y_train, y_test):\n",
    "    print (\"trainModel called\")\n",
    "\n",
    "    y_train =np.array(y_train)\n",
    "    y_test =np.array(y_test)\n",
    "    model = models.Sequential()\n",
    "    model.add(layers.Conv2D(128, (3, 3), activation='relu', input_shape=(img_shape_x, img_shape_y, 3)))\n",
    "    model.add(layers.MaxPooling2D((2, 2)))\n",
    "    model.add(layers.Conv2D(128, (3, 3), activation='relu'))\n",
    "    model.add(layers.MaxPooling2D((2, 2)))\n",
    "    model.add(layers.Conv2D(128, (3, 3), activation='relu'))\n",
    "    model.add(layers.Flatten())\n",
    "    model.add(layers.Dense(128, activation='relu'))\n",
    "    model.add(layers.Dense(3))\n",
    "\n",
    "    model.compile(optimizer='adam',\n",
    "                  loss=tf.keras.losses.SparseCategoricalCrossentropy(from_logits=True),\n",
    "                  metrics=['accuracy'])\n",
    "\n",
    "    # Train\n",
    "    history = model.fit(X_train, y_train, epochs=10)\n",
    "\n",
    "    # test\n",
    "    test_loss, test_acc = model.evaluate(X_test,y_test, verbose=2)\n",
    "    print(test_acc)"
   ]
  },
  {
   "cell_type": "code",
   "execution_count": null,
   "metadata": {},
   "outputs": [],
   "source": [
    "trainModel(X_train, X_test, y_train, y_test)"
   ]
  },
  {
   "cell_type": "code",
   "execution_count": null,
   "metadata": {},
   "outputs": [],
   "source": []
  }
 ],
 "metadata": {
  "kernelspec": {
   "display_name": "Python 3",
   "language": "python",
   "name": "python3"
  },
  "language_info": {
   "codemirror_mode": {
    "name": "ipython",
    "version": 3
   },
   "file_extension": ".py",
   "mimetype": "text/x-python",
   "name": "python",
   "nbconvert_exporter": "python",
   "pygments_lexer": "ipython3",
   "version": "3.7.4"
  }
 },
 "nbformat": 4,
 "nbformat_minor": 4
}
